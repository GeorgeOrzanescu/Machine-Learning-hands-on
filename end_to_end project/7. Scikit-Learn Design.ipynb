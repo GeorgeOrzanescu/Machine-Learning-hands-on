{
 "cells": [
  {
   "cell_type": "markdown",
   "metadata": {},
   "source": [
    "# Scikit-Learn fundamental concepts:\n",
    "        - Estimators\n",
    "        - Transformers \n",
    "        - Predictors\n",
    "        "
   ]
  },
  {
   "cell_type": "markdown",
   "metadata": {},
   "source": [
    "## Estimator:  \n",
    "#### is an object that fits a model based on some training data and is capable of inferring some properties on new data. It can be, for instance, a classifier or a regressor. All estimators implement the fit method.     .fit()\n",
    "    - fit () method takes the training data as arguments, which can be one array in the case of unsupervised learning, or two arrays in the case of supervised learning.\n",
    "    - any other parameter needed to guide the estimation process is called hyperparameter and must be set as in instance variable.\n",
    "    - estimator = estimator.fit(data)\n"
   ]
  },
  {
   "cell_type": "markdown",
   "metadata": {},
   "source": [
    "## Transformer:\n",
    "#### transforms a dataset. It transforms a dataset by calling transform() method and it returns a transformed dataset. some estimators can also transform a dataset.\n",
    "    - the transformation is performed by the transform() method with the dataset to transform as a parameter. It returns the transformed dataset.\n",
    "    - All transformers also have a convenience method called fit_transform() that is equivalent to calling fit() and then transform()\n",
    "    - new_data = transformer.transform(data)   OR new_data = transformer.fit_transform(data)"
   ]
  },
  {
   "cell_type": "markdown",
   "metadata": {},
   "source": [
    "## Predictor:\n",
    "#### making predictions for  given a dataset. A predictor class has predict() method that takes a new instances of a dataset and returns a dataset with corresponding predictions. Also, it contains score() method that measures the quality of the predictions for a giving test dataset.\n",
    "    - here u are working with a model ( LinearRegression , SVM , Decicion Tree )  which in principle is an algorithm applied to some data that returns a prediction.\n",
    "    - prediction = predictor.predict(data)\n",
    "    - model = LogisticRegression() --> model.fit(x_train,y_train) --> y_prediction = model.predict(x_test) --> model.score(x_test,y_test)\n",
    "    \n",
    "#### What we have done above is:\n",
    "    - 1. model.fit(x_train,y_train)   : model learns from x_train (attributes) and y_train (label or target we want predicted)\n",
    "    - 2. y_prediction = model.predict(x_test) : model predicts labels ( captured in y_prediction) based on only the attributes in the test set\n",
    "    - 3. model.score(x_test,y_test)  : we want a score for the predictions to see how accurate the model is. So this method checks base on the test set data. U don't need to pass the y_prediction to the score() function because that is already done internally . \n",
    "    \n",
    "    Hope it was clear enough for mode information in recomand reading:\n",
    "    https://www.kaggle.com/getting-started/27261"
   ]
  },
  {
   "cell_type": "code",
   "execution_count": null,
   "metadata": {},
   "outputs": [],
   "source": []
  }
 ],
 "metadata": {
  "kernelspec": {
   "display_name": "Python 3",
   "language": "python",
   "name": "python3"
  },
  "language_info": {
   "codemirror_mode": {
    "name": "ipython",
    "version": 3
   },
   "file_extension": ".py",
   "mimetype": "text/x-python",
   "name": "python",
   "nbconvert_exporter": "python",
   "pygments_lexer": "ipython3",
   "version": "3.9.0"
  }
 },
 "nbformat": 4,
 "nbformat_minor": 4
}
