{
 "cells": [
  {
   "cell_type": "markdown",
   "metadata": {},
   "source": [
    "# See how the download data function works & more\n",
    "###        - os module   :\n",
    "                This module provides a portable way of using operating system dependent functionality.\n",
    "###        - six.moves module\n",
    "                The six. moves module provides those modules under a common name for both Python2 and 3 (mostly by providing the Python2 module under the name of the Python 3 module). imports urllib when run with Python3 and imports a mixture of urllib ,urllib2 and urlparse with Python2, mimicking the structure of Python3's urllib .\n",
    "###        - urllib module\n",
    "                 for working with URLs"
   ]
  },
  {
   "cell_type": "code",
   "execution_count": 73,
   "metadata": {},
   "outputs": [],
   "source": [
    "import os\n",
    "import tarfile\n",
    "from six.moves import urllib"
   ]
  },
  {
   "cell_type": "code",
   "execution_count": 74,
   "metadata": {},
   "outputs": [
    {
     "name": "stdout",
     "output_type": "stream",
     "text": [
      "data\\notebook\n",
      "data\\notebook\n"
     ]
    }
   ],
   "source": [
    "DOWNLOAD_ROOT = \"https://raw.githubusercontent.com/GeorgeOrzanescu/Machine-Learning/master/\"    #link to an own repository\n",
    "# what does os.path.join do ?\n",
    "NOTEBOOK_PATH = os.path.join(\"data\",\"notebook\")  # It links to strings into and adress \n",
    "print(NOTEBOOK_PATH) # !! we can enter that manually without os.path.join\n",
    "print(\"data\\\\notebook\")"
   ]
  },
  {
   "cell_type": "code",
   "execution_count": 75,
   "metadata": {},
   "outputs": [
    {
     "name": "stdout",
     "output_type": "stream",
     "text": [
      "https://raw.githubusercontent.com/GeorgeOrzanescu/Machine-Learning/master/Machine Learning_regression  - Project.ipynb\n"
     ]
    }
   ],
   "source": [
    "NOTEBOOK_URL1 = DOWNLOAD_ROOT + \"Machine Learning_regression  - Project.ipynb\" \n",
    "print(NOTEBOOK_URL1)  # it links the root folder with the file adress to create an URL\n",
    "# u can notice that the spaces can't be processed, so that why is always good practice to not use spaces in naming files!!!"
   ]
  },
  {
   "cell_type": "code",
   "execution_count": 76,
   "metadata": {},
   "outputs": [
    {
     "name": "stdout",
     "output_type": "stream",
     "text": [
      "https://raw.githubusercontent.com/GeorgeOrzanescu/Machine-Learning/master/Machine%20Learning_regression%20%20-%20Project.ipynb\n"
     ]
    },
    {
     "data": {
      "text/plain": [
       "<http.client.HTTPResponse at 0x18e5a171c10>"
      ]
     },
     "execution_count": 76,
     "metadata": {},
     "output_type": "execute_result"
    }
   ],
   "source": [
    "NOTEBOOK_URL2 = DOWNLOAD_ROOT + \"Machine%20Learning_regression%20%20-%20Project.ipynb\" # %20 is the symbol to replace white spaces\n",
    "print(NOTEBOOK_URL2)\n",
    "urllib.request.urlopen(NOTEBOOK_URL) "
   ]
  },
  {
   "cell_type": "code",
   "execution_count": 77,
   "metadata": {},
   "outputs": [
    {
     "name": "stdout",
     "output_type": "stream",
     "text": [
      "Machine%20Learning_regression%20%20-%20Project.ipynb\n"
     ]
    },
    {
     "data": {
      "text/plain": [
       "<http.client.HTTPResponse at 0x18e5b177ac0>"
      ]
     },
     "execution_count": 77,
     "metadata": {},
     "output_type": "execute_result"
    }
   ],
   "source": [
    "x=urllib.parse.quote(\"Machine Learning_regression  - Project.ipynb\")\n",
    "#parce.quote :Replace special characters in string using the %xx escape. \n",
    "NOTEBOOK_URL3 = DOWNLOAD_ROOT + x\n",
    "print(x)\n",
    "urllib.request.urlopen(NOTEBOOK_URL3)"
   ]
  },
  {
   "cell_type": "markdown",
   "metadata": {},
   "source": [
    "### Clean definitions so to not get lost in details"
   ]
  },
  {
   "cell_type": "code",
   "execution_count": 78,
   "metadata": {},
   "outputs": [],
   "source": [
    "DOWNLOAD_ROOT = \"https://github.com/GeorgeOrzanescu/Machine-Learning/blob/master/\"\n",
    "NOTEBOOK_URL = DOWNLOAD_ROOT + x\n",
    "NOTEBOOK_PATH = os.path.join(\"data\",\"notebook\")"
   ]
  },
  {
   "cell_type": "markdown",
   "metadata": {},
   "source": [
    "### Let's see how the fetch_housing data function works!"
   ]
  },
  {
   "cell_type": "code",
   "execution_count": 79,
   "metadata": {},
   "outputs": [
    {
     "name": "stdout",
     "output_type": "stream",
     "text": [
      "True\n"
     ]
    }
   ],
   "source": [
    "#First let's see what does os.path.isdir  does:\n",
    "print(os.path.isdir(NOTEBOOK_PATH))  # it returns TRUE / FALSE   if the folder at the specific path exists or not\n",
    "# os.makedirs() creates a directory at the specific path"
   ]
  },
  {
   "cell_type": "code",
   "execution_count": 83,
   "metadata": {},
   "outputs": [],
   "source": [
    "def download_notebook(notebook_url=NOTEBOOK_URL,notebook_path=NOTEBOOK_PATH):\n",
    "    if not os.path.isdir(notebook_path):\n",
    "        os.makedirs(notebook_path)\n",
    "    urllib.request.urlretrieve(notebook_url,notebook_path + \"download.ipwnb\")\n",
    "    # urlretrieve:\n",
    "                # First argument is the path to desired file \n",
    "                #The second argument, if present, specifies the file location to copy to + extension \n",
    "    print(\"Download complete\") #simple confirmation"
   ]
  },
  {
   "cell_type": "code",
   "execution_count": 84,
   "metadata": {},
   "outputs": [
    {
     "name": "stdout",
     "output_type": "stream",
     "text": [
      "Download complete\n"
     ]
    }
   ],
   "source": [
    "download_notebook(NOTEBOOK_URL,NOTEBOOK_PATH)"
   ]
  }
 ],
 "metadata": {
  "kernelspec": {
   "display_name": "Python 3",
   "language": "python",
   "name": "python3"
  },
  "language_info": {
   "codemirror_mode": {
    "name": "ipython",
    "version": 3
   },
   "file_extension": ".py",
   "mimetype": "text/x-python",
   "name": "python",
   "nbconvert_exporter": "python",
   "pygments_lexer": "ipython3",
   "version": "3.9.0"
  }
 },
 "nbformat": 4,
 "nbformat_minor": 4
}
